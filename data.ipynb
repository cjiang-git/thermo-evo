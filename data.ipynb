{
 "cells": [
  {
   "cell_type": "code",
   "execution_count": 5,
   "id": "f9be700a-ab18-47d3-ad0c-5011679516cb",
   "metadata": {},
   "outputs": [],
   "source": [
    "import numpy as np\n",
    "import pandas as pd\n",
    "import sqlite3 \n",
    "import os\n",
    "import matplotlib.pyplot as plt\n",
    "from sklearn.model_selection import StratifiedShuffleSplit\n",
    "from datasets import Dataset, DatasetDict\n",
    "from transformers import AutoConfig, AutoModelForCausalLM,AutoTokenizer,BitsAndBytesConfig\n",
    "from stripedhyena.tokenizer import CharLevelTokenizer\n",
    "import torch"
   ]
  },
  {
   "cell_type": "code",
   "execution_count": 6,
   "id": "8a6c9234-3772-4f52-a459-c3d7ddb6f5b0",
   "metadata": {},
   "outputs": [],
   "source": [
    "RANDOM = 42\n",
    "out_path = './processed_data'\n",
    "model_path = './evo-1-8k-base'"
   ]
  },
  {
   "cell_type": "markdown",
   "id": "00ff3760-46ac-4e20-95e0-6344159aff24",
   "metadata": {},
   "source": [
    "## Combine datasets"
   ]
  },
  {
   "cell_type": "code",
   "execution_count": 7,
   "id": "91f0ca33-7d1f-469d-a619-9d5d490e8100",
   "metadata": {},
   "outputs": [
    {
     "name": "stderr",
     "output_type": "stream",
     "text": [
      "/tmp/ipykernel_5107/3648225863.py:7: DtypeWarning: Columns (30,31,36) have mixed types. Specify dtype option on import or set low_memory=False.\n",
      "  df = pd.read_csv(path)\n"
     ]
    },
    {
     "name": "stdout",
     "output_type": "stream",
     "text": [
      "(2617583, 37)\n"
     ]
    }
   ],
   "source": [
    "#Combine dataset\n",
    "mega_dG_df_lst = []\n",
    "mega_dG_path = './Processed_K50_dG_datasets'\n",
    "for i in os.listdir(mega_dG_path):\n",
    "    if i[:5] == 'Tsubo':\n",
    "        path = os.path.join(mega_dG_path,i)\n",
    "        df = pd.read_csv(path)\n",
    "        mega_dG_df_lst.append(df)\n",
    "\n",
    "mega_dG_df = pd.concat(mega_dG_df_lst)\n",
    "print(mega_dG_df.shape)"
   ]
  },
  {
   "cell_type": "code",
   "execution_count": 8,
   "id": "660259fe-a99f-479b-8e35-a9525771c3b2",
   "metadata": {},
   "outputs": [
    {
     "data": {
      "text/html": [
       "<div>\n",
       "<style scoped>\n",
       "    .dataframe tbody tr th:only-of-type {\n",
       "        vertical-align: middle;\n",
       "    }\n",
       "\n",
       "    .dataframe tbody tr th {\n",
       "        vertical-align: top;\n",
       "    }\n",
       "\n",
       "    .dataframe thead th {\n",
       "        text-align: right;\n",
       "    }\n",
       "</style>\n",
       "<table border=\"1\" class=\"dataframe\">\n",
       "  <thead>\n",
       "    <tr style=\"text-align: right;\">\n",
       "      <th></th>\n",
       "      <th>name</th>\n",
       "      <th>dna_seq</th>\n",
       "      <th>log10_K50_t</th>\n",
       "      <th>log10_K50_t_95CI_high</th>\n",
       "      <th>log10_K50_t_95CI_low</th>\n",
       "      <th>log10_K50_t_95CI</th>\n",
       "      <th>fitting_error_t</th>\n",
       "      <th>log10_K50unfolded_t</th>\n",
       "      <th>deltaG_t</th>\n",
       "      <th>deltaG_t_95CI_high</th>\n",
       "      <th>...</th>\n",
       "      <th>aa_seq</th>\n",
       "      <th>mut_type</th>\n",
       "      <th>WT_name</th>\n",
       "      <th>WT_cluster</th>\n",
       "      <th>log10_K50_trypsin_ML</th>\n",
       "      <th>log10_K50_chymotrypsin_ML</th>\n",
       "      <th>dG_ML</th>\n",
       "      <th>ddG_ML</th>\n",
       "      <th>Stabilizing_mut</th>\n",
       "      <th>pair_name</th>\n",
       "    </tr>\n",
       "  </thead>\n",
       "  <tbody>\n",
       "    <tr>\n",
       "      <th>0</th>\n",
       "      <td>EA|run2_0325_0005.pdb</td>\n",
       "      <td>TCTGCTGGCGGCTCCGCGGGTGGTTCCGCTGGTGGTGACGAAGTTA...</td>\n",
       "      <td>1.227105</td>\n",
       "      <td>1.255092</td>\n",
       "      <td>1.197643</td>\n",
       "      <td>0.057449</td>\n",
       "      <td>0.063626</td>\n",
       "      <td>-0.997071</td>\n",
       "      <td>2.998711</td>\n",
       "      <td>3.038485</td>\n",
       "      <td>...</td>\n",
       "      <td>DEVTIHLGDKTIRVDGLDKELLEILKELARRGADEEELRKEIERWER</td>\n",
       "      <td>wt</td>\n",
       "      <td>EA|run2_0325_0005.pdb</td>\n",
       "      <td>EEHH</td>\n",
       "      <td>1.2271050771597385</td>\n",
       "      <td>1.2135682995736825</td>\n",
       "      <td>3.3321258839433834</td>\n",
       "      <td>0.01719762915616707</td>\n",
       "      <td>False</td>\n",
       "      <td>NaN</td>\n",
       "    </tr>\n",
       "    <tr>\n",
       "      <th>1</th>\n",
       "      <td>EA|run2_0325_0005.pdb_wtm</td>\n",
       "      <td>TCCGCGGGTGGTTCCGCTGGCGGTTCTGCGGGCGGTGACGAAGTTA...</td>\n",
       "      <td>1.297559</td>\n",
       "      <td>1.381800</td>\n",
       "      <td>1.243835</td>\n",
       "      <td>0.137965</td>\n",
       "      <td>0.092264</td>\n",
       "      <td>-0.997071</td>\n",
       "      <td>3.099109</td>\n",
       "      <td>3.220506</td>\n",
       "      <td>...</td>\n",
       "      <td>DEVTIHLGDKTIRVDGLDKELLEILKELARRGADEEELRKEIERWER</td>\n",
       "      <td>wt</td>\n",
       "      <td>EA|run2_0325_0005.pdb</td>\n",
       "      <td>EEHH</td>\n",
       "      <td>1.2975591020191513</td>\n",
       "      <td>1.2201805304541726</td>\n",
       "      <td>3.3998316632160224</td>\n",
       "      <td>0.08490340842880606</td>\n",
       "      <td>False</td>\n",
       "      <td>NaN</td>\n",
       "    </tr>\n",
       "    <tr>\n",
       "      <th>2</th>\n",
       "      <td>EA|run2_0325_0005.pdb_wte</td>\n",
       "      <td>TCCGCTGGTGGCTCTGCGGGCGGTTCTGCTGGTGGCGACGAAGTTA...</td>\n",
       "      <td>1.262708</td>\n",
       "      <td>1.314787</td>\n",
       "      <td>1.239876</td>\n",
       "      <td>0.074911</td>\n",
       "      <td>0.092305</td>\n",
       "      <td>-0.997071</td>\n",
       "      <td>3.049332</td>\n",
       "      <td>3.123805</td>\n",
       "      <td>...</td>\n",
       "      <td>DEVTIHLGDKTIRVDGLDKELLEILKELARRGADEEELRKEIERWER</td>\n",
       "      <td>wt</td>\n",
       "      <td>EA|run2_0325_0005.pdb</td>\n",
       "      <td>EEHH</td>\n",
       "      <td>1.2627076164958364</td>\n",
       "      <td>1.169472475788951</td>\n",
       "      <td>3.315782210420261</td>\n",
       "      <td>0.0008539556330444675</td>\n",
       "      <td>False</td>\n",
       "      <td>NaN</td>\n",
       "    </tr>\n",
       "    <tr>\n",
       "      <th>3</th>\n",
       "      <td>EA|run2_0325_0005.pdb_wty</td>\n",
       "      <td>TCCGCTGGTGGCTCCGCGGGTGGTTCCGCTGGTGGTGACGAAGTTA...</td>\n",
       "      <td>1.244782</td>\n",
       "      <td>1.314467</td>\n",
       "      <td>1.195005</td>\n",
       "      <td>0.119462</td>\n",
       "      <td>0.074537</td>\n",
       "      <td>-0.997071</td>\n",
       "      <td>3.023818</td>\n",
       "      <td>3.123346</td>\n",
       "      <td>...</td>\n",
       "      <td>DEVTIHLGDKTIRVDGLDKELLEILKELARRGADEEELRKEIERWER</td>\n",
       "      <td>wt</td>\n",
       "      <td>EA|run2_0325_0005.pdb</td>\n",
       "      <td>EEHH</td>\n",
       "      <td>1.2447822859698547</td>\n",
       "      <td>1.1543165166325822</td>\n",
       "      <td>3.272933265369934</td>\n",
       "      <td>-0.04199498941728219</td>\n",
       "      <td>False</td>\n",
       "      <td>NaN</td>\n",
       "    </tr>\n",
       "    <tr>\n",
       "      <th>4</th>\n",
       "      <td>EA|run2_0325_0005.pdb_wth</td>\n",
       "      <td>TCCGCTGGCGGCTCCGCTGGCGGCTCCGCTGGCGGCTCCGCTGGCG...</td>\n",
       "      <td>0.998142</td>\n",
       "      <td>1.134508</td>\n",
       "      <td>0.723845</td>\n",
       "      <td>0.410663</td>\n",
       "      <td>0.315576</td>\n",
       "      <td>-1.010140</td>\n",
       "      <td>2.694897</td>\n",
       "      <td>2.885558</td>\n",
       "      <td>...</td>\n",
       "      <td>DEVTIHLGDKTIRVDGLDKELLEILKELARRGADEEELRKEIERWER</td>\n",
       "      <td>wt</td>\n",
       "      <td>EA|run2_0325_0005.pdb</td>\n",
       "      <td>EEHH</td>\n",
       "      <td>0.9981417661631856</td>\n",
       "      <td>0.6573573370630326</td>\n",
       "      <td>2.570241917260095</td>\n",
       "      <td>-0.7446863375271211</td>\n",
       "      <td>False</td>\n",
       "      <td>NaN</td>\n",
       "    </tr>\n",
       "    <tr>\n",
       "      <th>...</th>\n",
       "      <td>...</td>\n",
       "      <td>...</td>\n",
       "      <td>...</td>\n",
       "      <td>...</td>\n",
       "      <td>...</td>\n",
       "      <td>...</td>\n",
       "      <td>...</td>\n",
       "      <td>...</td>\n",
       "      <td>...</td>\n",
       "      <td>...</td>\n",
       "      <td>...</td>\n",
       "      <td>...</td>\n",
       "      <td>...</td>\n",
       "      <td>...</td>\n",
       "      <td>...</td>\n",
       "      <td>...</td>\n",
       "      <td>...</td>\n",
       "      <td>...</td>\n",
       "      <td>...</td>\n",
       "      <td>...</td>\n",
       "      <td>...</td>\n",
       "    </tr>\n",
       "    <tr>\n",
       "      <th>1841280</th>\n",
       "      <td>5GHB.pdb_I68C</td>\n",
       "      <td>TCCGCGGGTGGTCACATCAACCTGAAAGTTGCGGGTCAGGACGGTT...</td>\n",
       "      <td>-0.659227</td>\n",
       "      <td>-0.592633</td>\n",
       "      <td>-0.713220</td>\n",
       "      <td>0.120587</td>\n",
       "      <td>0.063869</td>\n",
       "      <td>-1.675883</td>\n",
       "      <td>1.299455</td>\n",
       "      <td>1.397173</td>\n",
       "      <td>...</td>\n",
       "      <td>NaN</td>\n",
       "      <td>NaN</td>\n",
       "      <td>NaN</td>\n",
       "      <td>NaN</td>\n",
       "      <td>-0.6592273716286323</td>\n",
       "      <td>-2.32007634084457</td>\n",
       "      <td>NaN</td>\n",
       "      <td>NaN</td>\n",
       "      <td>NaN</td>\n",
       "      <td>NaN</td>\n",
       "    </tr>\n",
       "    <tr>\n",
       "      <th>1841281</th>\n",
       "      <td>5GHB.pdb_D69C</td>\n",
       "      <td>TCTGCTGGCGGTCACATCAACCTGAAAGTTGCGGGTCAGGACGGTT...</td>\n",
       "      <td>1.526104</td>\n",
       "      <td>1.553159</td>\n",
       "      <td>1.500452</td>\n",
       "      <td>0.052707</td>\n",
       "      <td>0.064731</td>\n",
       "      <td>-1.690861</td>\n",
       "      <td>4.361019</td>\n",
       "      <td>4.401617</td>\n",
       "      <td>...</td>\n",
       "      <td>NaN</td>\n",
       "      <td>NaN</td>\n",
       "      <td>NaN</td>\n",
       "      <td>NaN</td>\n",
       "      <td>1.5261042575493224</td>\n",
       "      <td>0.2675031199165091</td>\n",
       "      <td>NaN</td>\n",
       "      <td>NaN</td>\n",
       "      <td>NaN</td>\n",
       "      <td>NaN</td>\n",
       "    </tr>\n",
       "    <tr>\n",
       "      <th>1841282</th>\n",
       "      <td>5GHB.pdb_V70C</td>\n",
       "      <td>TCTGCTGGCGGTCACATTAACCTGAAAGTTGCGGGTCAGGACGGCT...</td>\n",
       "      <td>0.189385</td>\n",
       "      <td>0.213863</td>\n",
       "      <td>0.152034</td>\n",
       "      <td>0.061828</td>\n",
       "      <td>0.102480</td>\n",
       "      <td>-1.678700</td>\n",
       "      <td>2.489757</td>\n",
       "      <td>2.523049</td>\n",
       "      <td>...</td>\n",
       "      <td>NaN</td>\n",
       "      <td>NaN</td>\n",
       "      <td>NaN</td>\n",
       "      <td>NaN</td>\n",
       "      <td>0.1893847673240727</td>\n",
       "      <td>-0.9724388178041864</td>\n",
       "      <td>NaN</td>\n",
       "      <td>NaN</td>\n",
       "      <td>NaN</td>\n",
       "      <td>NaN</td>\n",
       "    </tr>\n",
       "    <tr>\n",
       "      <th>1841283</th>\n",
       "      <td>5GHB.pdb_F71C</td>\n",
       "      <td>TCCGCTGGCGGCCATATCAACCTGAAAGTTGCGGGTCAGGACGGTT...</td>\n",
       "      <td>1.406698</td>\n",
       "      <td>1.424117</td>\n",
       "      <td>1.375079</td>\n",
       "      <td>0.049039</td>\n",
       "      <td>0.073401</td>\n",
       "      <td>-1.670525</td>\n",
       "      <td>4.157925</td>\n",
       "      <td>4.183294</td>\n",
       "      <td>...</td>\n",
       "      <td>NaN</td>\n",
       "      <td>NaN</td>\n",
       "      <td>NaN</td>\n",
       "      <td>NaN</td>\n",
       "      <td>1.4066979508059534</td>\n",
       "      <td>0.0777885370976122</td>\n",
       "      <td>NaN</td>\n",
       "      <td>NaN</td>\n",
       "      <td>NaN</td>\n",
       "      <td>NaN</td>\n",
       "    </tr>\n",
       "    <tr>\n",
       "      <th>1841284</th>\n",
       "      <td>5GHB.pdb_Q72C</td>\n",
       "      <td>TCTGCGGGTGGTCACATCAACCTGAAAGTTGCGGGTCAGGACGGTT...</td>\n",
       "      <td>1.682059</td>\n",
       "      <td>1.699566</td>\n",
       "      <td>1.639256</td>\n",
       "      <td>0.060310</td>\n",
       "      <td>0.069157</td>\n",
       "      <td>-1.683814</td>\n",
       "      <td>4.590550</td>\n",
       "      <td>4.618236</td>\n",
       "      <td>...</td>\n",
       "      <td>NaN</td>\n",
       "      <td>NaN</td>\n",
       "      <td>NaN</td>\n",
       "      <td>NaN</td>\n",
       "      <td>1.6820586450644606</td>\n",
       "      <td>0.3411778664345641</td>\n",
       "      <td>NaN</td>\n",
       "      <td>NaN</td>\n",
       "      <td>NaN</td>\n",
       "      <td>NaN</td>\n",
       "    </tr>\n",
       "  </tbody>\n",
       "</table>\n",
       "<p>2617583 rows × 37 columns</p>\n",
       "</div>"
      ],
      "text/plain": [
       "                              name  \\\n",
       "0            EA|run2_0325_0005.pdb   \n",
       "1        EA|run2_0325_0005.pdb_wtm   \n",
       "2        EA|run2_0325_0005.pdb_wte   \n",
       "3        EA|run2_0325_0005.pdb_wty   \n",
       "4        EA|run2_0325_0005.pdb_wth   \n",
       "...                            ...   \n",
       "1841280              5GHB.pdb_I68C   \n",
       "1841281              5GHB.pdb_D69C   \n",
       "1841282              5GHB.pdb_V70C   \n",
       "1841283              5GHB.pdb_F71C   \n",
       "1841284              5GHB.pdb_Q72C   \n",
       "\n",
       "                                                   dna_seq  log10_K50_t  \\\n",
       "0        TCTGCTGGCGGCTCCGCGGGTGGTTCCGCTGGTGGTGACGAAGTTA...     1.227105   \n",
       "1        TCCGCGGGTGGTTCCGCTGGCGGTTCTGCGGGCGGTGACGAAGTTA...     1.297559   \n",
       "2        TCCGCTGGTGGCTCTGCGGGCGGTTCTGCTGGTGGCGACGAAGTTA...     1.262708   \n",
       "3        TCCGCTGGTGGCTCCGCGGGTGGTTCCGCTGGTGGTGACGAAGTTA...     1.244782   \n",
       "4        TCCGCTGGCGGCTCCGCTGGCGGCTCCGCTGGCGGCTCCGCTGGCG...     0.998142   \n",
       "...                                                    ...          ...   \n",
       "1841280  TCCGCGGGTGGTCACATCAACCTGAAAGTTGCGGGTCAGGACGGTT...    -0.659227   \n",
       "1841281  TCTGCTGGCGGTCACATCAACCTGAAAGTTGCGGGTCAGGACGGTT...     1.526104   \n",
       "1841282  TCTGCTGGCGGTCACATTAACCTGAAAGTTGCGGGTCAGGACGGCT...     0.189385   \n",
       "1841283  TCCGCTGGCGGCCATATCAACCTGAAAGTTGCGGGTCAGGACGGTT...     1.406698   \n",
       "1841284  TCTGCGGGTGGTCACATCAACCTGAAAGTTGCGGGTCAGGACGGTT...     1.682059   \n",
       "\n",
       "         log10_K50_t_95CI_high  log10_K50_t_95CI_low  log10_K50_t_95CI  \\\n",
       "0                     1.255092              1.197643          0.057449   \n",
       "1                     1.381800              1.243835          0.137965   \n",
       "2                     1.314787              1.239876          0.074911   \n",
       "3                     1.314467              1.195005          0.119462   \n",
       "4                     1.134508              0.723845          0.410663   \n",
       "...                        ...                   ...               ...   \n",
       "1841280              -0.592633             -0.713220          0.120587   \n",
       "1841281               1.553159              1.500452          0.052707   \n",
       "1841282               0.213863              0.152034          0.061828   \n",
       "1841283               1.424117              1.375079          0.049039   \n",
       "1841284               1.699566              1.639256          0.060310   \n",
       "\n",
       "         fitting_error_t  log10_K50unfolded_t  deltaG_t  deltaG_t_95CI_high  \\\n",
       "0               0.063626            -0.997071  2.998711            3.038485   \n",
       "1               0.092264            -0.997071  3.099109            3.220506   \n",
       "2               0.092305            -0.997071  3.049332            3.123805   \n",
       "3               0.074537            -0.997071  3.023818            3.123346   \n",
       "4               0.315576            -1.010140  2.694897            2.885558   \n",
       "...                  ...                  ...       ...                 ...   \n",
       "1841280         0.063869            -1.675883  1.299455            1.397173   \n",
       "1841281         0.064731            -1.690861  4.361019            4.401617   \n",
       "1841282         0.102480            -1.678700  2.489757            2.523049   \n",
       "1841283         0.073401            -1.670525  4.157925            4.183294   \n",
       "1841284         0.069157            -1.683814  4.590550            4.618236   \n",
       "\n",
       "         ...                                           aa_seq  mut_type  \\\n",
       "0        ...  DEVTIHLGDKTIRVDGLDKELLEILKELARRGADEEELRKEIERWER        wt   \n",
       "1        ...  DEVTIHLGDKTIRVDGLDKELLEILKELARRGADEEELRKEIERWER        wt   \n",
       "2        ...  DEVTIHLGDKTIRVDGLDKELLEILKELARRGADEEELRKEIERWER        wt   \n",
       "3        ...  DEVTIHLGDKTIRVDGLDKELLEILKELARRGADEEELRKEIERWER        wt   \n",
       "4        ...  DEVTIHLGDKTIRVDGLDKELLEILKELARRGADEEELRKEIERWER        wt   \n",
       "...      ...                                              ...       ...   \n",
       "1841280  ...                                              NaN       NaN   \n",
       "1841281  ...                                              NaN       NaN   \n",
       "1841282  ...                                              NaN       NaN   \n",
       "1841283  ...                                              NaN       NaN   \n",
       "1841284  ...                                              NaN       NaN   \n",
       "\n",
       "                       WT_name  WT_cluster  log10_K50_trypsin_ML  \\\n",
       "0        EA|run2_0325_0005.pdb        EEHH    1.2271050771597385   \n",
       "1        EA|run2_0325_0005.pdb        EEHH    1.2975591020191513   \n",
       "2        EA|run2_0325_0005.pdb        EEHH    1.2627076164958364   \n",
       "3        EA|run2_0325_0005.pdb        EEHH    1.2447822859698547   \n",
       "4        EA|run2_0325_0005.pdb        EEHH    0.9981417661631856   \n",
       "...                        ...         ...                   ...   \n",
       "1841280                    NaN         NaN   -0.6592273716286323   \n",
       "1841281                    NaN         NaN    1.5261042575493224   \n",
       "1841282                    NaN         NaN    0.1893847673240727   \n",
       "1841283                    NaN         NaN    1.4066979508059534   \n",
       "1841284                    NaN         NaN    1.6820586450644606   \n",
       "\n",
       "         log10_K50_chymotrypsin_ML               dG_ML                 ddG_ML  \\\n",
       "0               1.2135682995736825  3.3321258839433834    0.01719762915616707   \n",
       "1               1.2201805304541726  3.3998316632160224    0.08490340842880606   \n",
       "2                1.169472475788951   3.315782210420261  0.0008539556330444675   \n",
       "3               1.1543165166325822   3.272933265369934   -0.04199498941728219   \n",
       "4               0.6573573370630326   2.570241917260095    -0.7446863375271211   \n",
       "...                            ...                 ...                    ...   \n",
       "1841280          -2.32007634084457                 NaN                    NaN   \n",
       "1841281         0.2675031199165091                 NaN                    NaN   \n",
       "1841282        -0.9724388178041864                 NaN                    NaN   \n",
       "1841283         0.0777885370976122                 NaN                    NaN   \n",
       "1841284         0.3411778664345641                 NaN                    NaN   \n",
       "\n",
       "         Stabilizing_mut  pair_name  \n",
       "0                  False        NaN  \n",
       "1                  False        NaN  \n",
       "2                  False        NaN  \n",
       "3                  False        NaN  \n",
       "4                  False        NaN  \n",
       "...                  ...        ...  \n",
       "1841280              NaN        NaN  \n",
       "1841281              NaN        NaN  \n",
       "1841282              NaN        NaN  \n",
       "1841283              NaN        NaN  \n",
       "1841284              NaN        NaN  \n",
       "\n",
       "[2617583 rows x 37 columns]"
      ]
     },
     "execution_count": 8,
     "metadata": {},
     "output_type": "execute_result"
    }
   ],
   "source": [
    "mega_dG_df"
   ]
  },
  {
   "cell_type": "markdown",
   "id": "4a2408ca-94e4-43d0-9215-7121cd272976",
   "metadata": {},
   "source": [
    "## Process dataset"
   ]
  },
  {
   "cell_type": "code",
   "execution_count": 9,
   "id": "f95cd3d0-a51d-40bf-8020-997f731f5e29",
   "metadata": {},
   "outputs": [
    {
     "name": "stdout",
     "output_type": "stream",
     "text": [
      "776298\n"
     ]
    },
    {
     "data": {
      "text/html": [
       "<div>\n",
       "<style scoped>\n",
       "    .dataframe tbody tr th:only-of-type {\n",
       "        vertical-align: middle;\n",
       "    }\n",
       "\n",
       "    .dataframe tbody tr th {\n",
       "        vertical-align: top;\n",
       "    }\n",
       "\n",
       "    .dataframe thead th {\n",
       "        text-align: right;\n",
       "    }\n",
       "</style>\n",
       "<table border=\"1\" class=\"dataframe\">\n",
       "  <thead>\n",
       "    <tr style=\"text-align: right;\">\n",
       "      <th></th>\n",
       "      <th>dna_seq</th>\n",
       "      <th>dG_ML</th>\n",
       "      <th>WT_name</th>\n",
       "    </tr>\n",
       "  </thead>\n",
       "  <tbody>\n",
       "    <tr>\n",
       "      <th>0</th>\n",
       "      <td>TCTGCTGGCGGCTCCGCGGGTGGTTCCGCTGGTGGTGACGAAGTTA...</td>\n",
       "      <td>3.3321258839433834</td>\n",
       "      <td>EA|run2_0325_0005.pdb</td>\n",
       "    </tr>\n",
       "    <tr>\n",
       "      <th>1</th>\n",
       "      <td>TCCGCGGGTGGTTCCGCTGGCGGTTCTGCGGGCGGTGACGAAGTTA...</td>\n",
       "      <td>3.3998316632160224</td>\n",
       "      <td>EA|run2_0325_0005.pdb</td>\n",
       "    </tr>\n",
       "    <tr>\n",
       "      <th>2</th>\n",
       "      <td>TCCGCTGGTGGCTCTGCGGGCGGTTCTGCTGGTGGCGACGAAGTTA...</td>\n",
       "      <td>3.315782210420261</td>\n",
       "      <td>EA|run2_0325_0005.pdb</td>\n",
       "    </tr>\n",
       "    <tr>\n",
       "      <th>3</th>\n",
       "      <td>TCCGCTGGTGGCTCCGCGGGTGGTTCCGCTGGTGGTGACGAAGTTA...</td>\n",
       "      <td>3.272933265369934</td>\n",
       "      <td>EA|run2_0325_0005.pdb</td>\n",
       "    </tr>\n",
       "    <tr>\n",
       "      <th>4</th>\n",
       "      <td>TCCGCTGGCGGCTCCGCTGGCGGCTCCGCTGGCGGCTCCGCTGGCG...</td>\n",
       "      <td>2.570241917260095</td>\n",
       "      <td>EA|run2_0325_0005.pdb</td>\n",
       "    </tr>\n",
       "    <tr>\n",
       "      <th>...</th>\n",
       "      <td>...</td>\n",
       "      <td>...</td>\n",
       "      <td>...</td>\n",
       "    </tr>\n",
       "    <tr>\n",
       "      <th>776293</th>\n",
       "      <td>TCCGCGGGTGGCTCTGCTGGCGGCAACCAGGCGTCTGTTGTTGCGA...</td>\n",
       "      <td>&lt;-1</td>\n",
       "      <td>9AME.pdb</td>\n",
       "    </tr>\n",
       "    <tr>\n",
       "      <th>776294</th>\n",
       "      <td>TCCGCGGGTGGTTCTGCGGGCGGTAATCAGGCGTCTGTTGTTGCGA...</td>\n",
       "      <td>&lt;-1</td>\n",
       "      <td>9AME.pdb</td>\n",
       "    </tr>\n",
       "    <tr>\n",
       "      <th>776295</th>\n",
       "      <td>TCTGCGGGCGGTTCTGCTGGTGGTAACCAGGCGTCTGTTGTTGCGA...</td>\n",
       "      <td>&lt;-1</td>\n",
       "      <td>9AME.pdb</td>\n",
       "    </tr>\n",
       "    <tr>\n",
       "      <th>776296</th>\n",
       "      <td>TCCGCGGGTGGCTCCGCTGGTGGTAATCAGGCGTCTGTTGTTGCGA...</td>\n",
       "      <td>&lt;-1</td>\n",
       "      <td>9AME.pdb</td>\n",
       "    </tr>\n",
       "    <tr>\n",
       "      <th>776297</th>\n",
       "      <td>TCCGCTGGTGGCTCTGCTGGCGGTAACCAAGCGTCTGTTGTTGCGA...</td>\n",
       "      <td>&lt;-1</td>\n",
       "      <td>9AME.pdb</td>\n",
       "    </tr>\n",
       "  </tbody>\n",
       "</table>\n",
       "<p>771761 rows × 3 columns</p>\n",
       "</div>"
      ],
      "text/plain": [
       "                                                  dna_seq               dG_ML  \\\n",
       "0       TCTGCTGGCGGCTCCGCGGGTGGTTCCGCTGGTGGTGACGAAGTTA...  3.3321258839433834   \n",
       "1       TCCGCGGGTGGTTCCGCTGGCGGTTCTGCGGGCGGTGACGAAGTTA...  3.3998316632160224   \n",
       "2       TCCGCTGGTGGCTCTGCGGGCGGTTCTGCTGGTGGCGACGAAGTTA...   3.315782210420261   \n",
       "3       TCCGCTGGTGGCTCCGCGGGTGGTTCCGCTGGTGGTGACGAAGTTA...   3.272933265369934   \n",
       "4       TCCGCTGGCGGCTCCGCTGGCGGCTCCGCTGGCGGCTCCGCTGGCG...   2.570241917260095   \n",
       "...                                                   ...                 ...   \n",
       "776293  TCCGCGGGTGGCTCTGCTGGCGGCAACCAGGCGTCTGTTGTTGCGA...                 <-1   \n",
       "776294  TCCGCGGGTGGTTCTGCGGGCGGTAATCAGGCGTCTGTTGTTGCGA...                 <-1   \n",
       "776295  TCTGCGGGCGGTTCTGCTGGTGGTAACCAGGCGTCTGTTGTTGCGA...                 <-1   \n",
       "776296  TCCGCGGGTGGCTCCGCTGGTGGTAATCAGGCGTCTGTTGTTGCGA...                 <-1   \n",
       "776297  TCCGCTGGTGGCTCTGCTGGCGGTAACCAAGCGTCTGTTGTTGCGA...                 <-1   \n",
       "\n",
       "                      WT_name  \n",
       "0       EA|run2_0325_0005.pdb  \n",
       "1       EA|run2_0325_0005.pdb  \n",
       "2       EA|run2_0325_0005.pdb  \n",
       "3       EA|run2_0325_0005.pdb  \n",
       "4       EA|run2_0325_0005.pdb  \n",
       "...                       ...  \n",
       "776293               9AME.pdb  \n",
       "776294               9AME.pdb  \n",
       "776295               9AME.pdb  \n",
       "776296               9AME.pdb  \n",
       "776297               9AME.pdb  \n",
       "\n",
       "[771761 rows x 3 columns]"
      ]
     },
     "execution_count": 9,
     "metadata": {},
     "output_type": "execute_result"
    }
   ],
   "source": [
    "#No. of preprocessed, valid dG values\n",
    "# \"-\" are unreliable data determined by dataset authorss\n",
    "print(len(mega_dG_df[mega_dG_df['dG_ML'].notna()]))\n",
    "processed_df = mega_dG_df[['dna_seq','dG_ML','WT_name']].dropna()\n",
    "processed_df = processed_df[processed_df['dG_ML']!='-']#Seq with invalid dG\n",
    "processed_df"
   ]
  },
  {
   "cell_type": "code",
   "execution_count": 10,
   "id": "93f6509c-8850-4f68-afed-30a7c566d47b",
   "metadata": {},
   "outputs": [
    {
     "name": "stdout",
     "output_type": "stream",
     "text": [
      "274\n"
     ]
    }
   ],
   "source": [
    "print(processed_df['WT_name'].str[:4].nunique())"
   ]
  },
  {
   "cell_type": "code",
   "execution_count": 11,
   "id": "491c0b52-d832-47fc-92f4-9df160faa29a",
   "metadata": {},
   "outputs": [],
   "source": [
    "#Replaced unstable/very stable proteins with numerical representation, change dtype from str to float32\n",
    "processed_df['dG_ML']=processed_df['dG_ML'].replace('<-1','-1.0')\n",
    "processed_df['dG_ML']=pd.to_numeric(processed_df['dG_ML'].replace('>5','5.0'))"
   ]
  },
  {
   "cell_type": "markdown",
   "id": "8cfd5321-d7fc-41f1-b20b-8780025199d1",
   "metadata": {},
   "source": [
    "## Visualizations"
   ]
  },
  {
   "cell_type": "code",
   "execution_count": 12,
   "id": "f415bc9d-de33-45a8-84aa-5405fadc48de",
   "metadata": {},
   "outputs": [
    {
     "data": {
      "text/plain": [
       "Text(0.5, 1.0, 'sequence length distribution')"
      ]
     },
     "execution_count": 12,
     "metadata": {},
     "output_type": "execute_result"
    },
    {
     "data": {
      "image/png": "[encoded data removed]",
      "text/plain": [
       "<Figure size 640x480 with 1 Axes>"
      ]
     },
     "metadata": {},
     "output_type": "display_data"
    }
   ],
   "source": [
    "plt.hist(processed_df['dna_seq'].apply(len))\n",
    "plt.title('sequence length distribution')"
   ]
  },
  {
   "cell_type": "code",
   "execution_count": 13,
   "id": "2f9fd7ff-1b66-447b-8190-4c03ab738986",
   "metadata": {},
   "outputs": [
    {
     "data": {
      "text/plain": [
       "Text(0.5, 1.0, 'score distribution')"
      ]
     },
     "execution_count": 13,
     "metadata": {},
     "output_type": "execute_result"
    },
    {
     "data": {
      "image/png": "[encoded data removed]",
      "text/plain": [
       "<Figure size 640x480 with 1 Axes>"
      ]
     },
     "metadata": {},
     "output_type": "display_data"
    }
   ],
   "source": [
    "plt.boxplot(processed_df['dG_ML'])\n",
    "plt.title('score distribution')"
   ]
  },
  {
   "cell_type": "code",
   "execution_count": 14,
   "id": "aaa8a463-4203-4b1e-a78d-2c6c9a96249b",
   "metadata": {},
   "outputs": [],
   "source": [
    "tst_ratio = 0.3\n",
    "r_state = 42\n",
    "split1 = StratifiedShuffleSplit(n_splits=1,test_size=tst_ratio,random_state = r_state)\n",
    "s = split1.split(processed_df,processed_df['WT_name'])"
   ]
  },
  {
   "cell_type": "code",
   "execution_count": 15,
   "id": "cdeb535b-3526-4122-808b-908ef45bd55f",
   "metadata": {},
   "outputs": [
    {
     "data": {
      "text/plain": [
       "Index(['dna_seq', 'dG_ML', 'WT_name'], dtype='object')"
      ]
     },
     "execution_count": 15,
     "metadata": {},
     "output_type": "execute_result"
    }
   ],
   "source": [
    "processed_df.columns"
   ]
  },
  {
   "cell_type": "code",
   "execution_count": 16,
   "id": "e893ae5b-7021-4648-942c-4fe0ae35b97c",
   "metadata": {},
   "outputs": [],
   "source": [
    "#Get Max length of dna sequence\n",
    "max_length = processed_df['dna_seq'].str.len().max()"
   ]
  },
  {
   "cell_type": "code",
   "execution_count": 17,
   "id": "74f69213-7438-4dce-9990-9d3b39c86406",
   "metadata": {},
   "outputs": [
    {
     "data": {
      "text/plain": [
       "240"
      ]
     },
     "execution_count": 17,
     "metadata": {},
     "output_type": "execute_result"
    }
   ],
   "source": [
    "max_length "
   ]
  },
  {
   "cell_type": "markdown",
   "id": "aafbd18d-02cb-460b-8dad-258cee98878e",
   "metadata": {},
   "source": [
    "## Embedding"
   ]
  },
  {
   "cell_type": "code",
   "execution_count": 18,
   "id": "008726ed-cfbc-4d17-9d49-75273f758a12",
   "metadata": {},
   "outputs": [],
   "source": [
    "from stripedhyena.tokenizer import CharLevelTokenizer\n",
    "\n",
    "tokenizer = CharLevelTokenizer(512)\n",
    "\n",
    "#Code copied and then modified from official EVO repo\n",
    "def prepare_batch(\n",
    "    seqs: [str],\n",
    "    tokenizer: CharLevelTokenizer,\n",
    "    prepend_bos: bool = True,\n",
    "    device: str = 'cuda:0'\n",
    ") -> [torch.Tensor, [int]]:\n",
    "    \"\"\"\n",
    "    Takes in a list of sequences, tokenizes them, and puts them in a tensor batch.\n",
    "    If the sequences have differing lengths, then pad up to the maximum sequence length.\n",
    "    \"\"\"\n",
    "    seq_lengths = [ len(seq) for seq in seqs ]\n",
    "    max_seq_length = max(seq_lengths)\n",
    "\n",
    "    input_ids = []\n",
    "    for seq in seqs:\n",
    "        padding = [tokenizer.pad_id] * (max_seq_length - len(seq))\n",
    "        input_ids.append(\n",
    "            torch.tensor(\n",
    "                ([tokenizer.eod_id] * int(prepend_bos)) + tokenizer.tokenize(seq) + padding,\n",
    "                dtype=torch.long,\n",
    "            ).to(device).unsqueeze(0)\n",
    "        )\n",
    "    input_ids = torch.cat(input_ids, dim=0)\n",
    "\n",
    "    return input_ids, seq_lengths\n",
    "#token_dsets = datasets.map(tokenize_data)"
   ]
  },
  {
   "cell_type": "code",
   "execution_count": 19,
   "id": "44a87673-dee5-4459-9cb3-0eb03d470212",
   "metadata": {},
   "outputs": [
    {
     "data": {
      "text/plain": [
       "[1]"
      ]
     },
     "execution_count": 19,
     "metadata": {},
     "output_type": "execute_result"
    }
   ],
   "source": [
    "tokenizer.tokenize('\\x01')"
   ]
  },
  {
   "cell_type": "markdown",
   "id": "29040924-86de-4986-8b0c-4300bda8c12a",
   "metadata": {},
   "source": [
    "## Split"
   ]
  },
  {
   "cell_type": "code",
   "execution_count": 21,
   "id": "c7163e1f-2cc2-40a1-8551-9ef0ce4bd536",
   "metadata": {},
   "outputs": [],
   "source": [
    "#Stratified split on wild type (non mutated), hence separation of similar proteins\n",
    "\n",
    "tst_ratio = 0.3\n",
    "split1 = StratifiedShuffleSplit(n_splits=1,test_size=tst_ratio,random_state = RANDOM)\n",
    "split2 = StratifiedShuffleSplit(n_splits=1,test_size=0.5,random_state = RANDOM)\n",
    "for train, test in split1.split(processed_df,processed_df['WT_name']):\n",
    "    train_dset = processed_df.iloc[train][['dna_seq','dG_ML']]\n",
    "    tv_dset = processed_df.iloc[test]\n",
    "\n",
    "for val, test in split2.split(tv_dset,tv_dset['WT_name']):\n",
    "    val_dset = tv_dset.iloc[val][['dna_seq','dG_ML']]\n",
    "    test_dset = tv_dset.iloc[test][['dna_seq','dG_ML']]"
   ]
  },
  {
   "cell_type": "code",
   "execution_count": 22,
   "id": "49ff599b-38e2-458d-a3cc-f76aaf680e48",
   "metadata": {},
   "outputs": [],
   "source": [
    "#train_dset['dna_seq'] = prepare_batch(train_dset['dna_seq'].tolist(),tokenizer)[0].tolist()\n",
    "#test_dset['dna_seq'] = prepare_batch(test_dset['dna_seq'].tolist(),tokenizer)[0].tolist()\n",
    "#val_dset['dna_seq'] = prepare_batch(val_dset['dna_seq'].tolist(),tokenizer)[0].tolist()\n",
    "\n",
    "train_dataset = Dataset.from_pandas(train_dset.rename(columns={\"dG_ML\": \"labels\"}))\n",
    "test_dataset = Dataset.from_pandas(test_dset.rename(columns={\"dG_ML\": \"labels\"}))\n",
    "val_dataset = Dataset.from_pandas(val_dset.rename(columns={\"dG_ML\": \"labels\"}))\n",
    "\n",
    "# Combine into a DatasetDict\n",
    "datasets = DatasetDict({\n",
    "    'train': train_dataset,\n",
    "    'test': test_dataset,\n",
    "    'val': val_dataset\n",
    "})\n",
    "datasets = datasets.remove_columns(['__index_level_0__'])"
   ]
  },
  {
   "cell_type": "code",
   "execution_count": 23,
   "id": "cf200c4e-2eb4-40c7-884f-cdf153b527fd",
   "metadata": {},
   "outputs": [
    {
     "data": {
      "text/plain": [
       "540232"
      ]
     },
     "execution_count": 23,
     "metadata": {},
     "output_type": "execute_result"
    }
   ],
   "source": [
    "len(train_dataset)"
   ]
  },
  {
   "cell_type": "code",
   "execution_count": 21,
   "id": "bcec6877-f736-4d99-add5-f6c3a4bb8c86",
   "metadata": {},
   "outputs": [
    {
     "data": {
      "text/plain": [
       "115765"
      ]
     },
     "execution_count": 21,
     "metadata": {},
     "output_type": "execute_result"
    }
   ],
   "source": [
    "len(test_dataset)"
   ]
  },
  {
   "cell_type": "code",
   "execution_count": 24,
   "id": "f21bfd6d-6fbc-4ea3-bc73-ee1d8f730588",
   "metadata": {},
   "outputs": [
    {
     "data": {
      "application/vnd.jupyter.widget-view+json": {
       "model_id": "dd2c228137d44f39a34ebf3de310531a",
       "version_major": 2,
       "version_minor": 0
      },
      "text/plain": [
       "Saving the dataset (0/1 shards):   0%|          | 0/540232 [00:00<?, ? examples/s]"
      ]
     },
     "metadata": {},
     "output_type": "display_data"
    },
    {
     "data": {
      "application/vnd.jupyter.widget-view+json": {
       "model_id": "a41f8043f1b84933a576e6aaf2609aa7",
       "version_major": 2,
       "version_minor": 0
      },
      "text/plain": [
       "Saving the dataset (0/1 shards):   0%|          | 0/115765 [00:00<?, ? examples/s]"
      ]
     },
     "metadata": {},
     "output_type": "display_data"
    },
    {
     "data": {
      "application/vnd.jupyter.widget-view+json": {
       "model_id": "1ca951062934474d84a84312788dfb35",
       "version_major": 2,
       "version_minor": 0
      },
      "text/plain": [
       "Saving the dataset (0/1 shards):   0%|          | 0/115764 [00:00<?, ? examples/s]"
      ]
     },
     "metadata": {},
     "output_type": "display_data"
    }
   ],
   "source": [
    "datasets.save_to_disk('./processed_data')"
   ]
  },
  {
   "cell_type": "code",
   "execution_count": null,
   "id": "30174146-4932-49b6-8cd1-c20f4e2413e8",
   "metadata": {},
   "outputs": [],
   "source": [
    "tokenize_function(datasets['train'][0])"
   ]
  },
  {
   "cell_type": "code",
   "execution_count": null,
   "id": "8f96ffaf-4099-417e-b947-31337cd84324",
   "metadata": {},
   "outputs": [],
   "source": [
    "len(tokenizer.tokenize(datasets['train'][0]['dna_seq']))"
   ]
  },
  {
   "cell_type": "code",
   "execution_count": null,
   "id": "b3b23c67-8ff9-4822-aece-df6355de7fda",
   "metadata": {},
   "outputs": [],
   "source": [
    "train_dset['dna_seq']"
   ]
  },
  {
   "cell_type": "code",
   "execution_count": null,
   "id": "a14b2d11-50e5-4d11-bc08-8fdd2c3fdd1a",
   "metadata": {},
   "outputs": [],
   "source": [
    "input_id"
   ]
  },
  {
   "cell_type": "code",
   "execution_count": null,
   "id": "9886b36b-f7cf-4802-9e7f-caeff40b44db",
   "metadata": {},
   "outputs": [],
   "source": [
    "len(tokenizer.detokenize_batch(input_id))\n",
    "\n"
   ]
  },
  {
   "cell_type": "code",
   "execution_count": null,
   "id": "f81b35a2-0b47-43e5-9729-6f50915329c0",
   "metadata": {},
   "outputs": [],
   "source": [
    "if not os.path.exists(\"./model_data/\"):\n",
    "    os.makedirs(\"./model_data/\")\n",
    "train_dset.to_csv(\"./model_data/train_dset.csv\")\n",
    "val_dset.to_csv(\"./model_data/val_dset.csv\")\n",
    "test_dset.to_csv(\"./model_data/test_dset.csv\")"
   ]
  },
  {
   "cell_type": "code",
   "execution_count": null,
   "id": "c17428a6-565f-4417-a3d7-2a619fe04f39",
   "metadata": {},
   "outputs": [],
   "source": []
  }
 ],
 "metadata": {
  "kernelspec": {
   "display_name": "thermoevo",
   "language": "python",
   "name": "thermoevo"
  },
  "language_info": {
   "codemirror_mode": {
    "name": "ipython",
    "version": 3
   },
   "file_extension": ".py",
   "mimetype": "text/x-python",
   "name": "python",
   "nbconvert_exporter": "python",
   "pygments_lexer": "ipython3",
   "version": "3.10.14"
  }
 },
 "nbformat": 4,
 "nbformat_minor": 5
}
